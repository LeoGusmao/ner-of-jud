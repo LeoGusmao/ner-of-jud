{
 "cells": [
  {
   "cell_type": "code",
   "execution_count": 15,
   "id": "8abc827d",
   "metadata": {},
   "outputs": [],
   "source": [
    "import json\n",
    "import pandas as pd"
   ]
  },
  {
   "cell_type": "code",
   "execution_count": 6,
   "id": "f209a2b0",
   "metadata": {},
   "outputs": [],
   "source": [
    "def loadJSON(caminho):\n",
    "    tf = open(caminho, \"r\")\n",
    "    dicionario = json.load(tf)\n",
    "    close(tf)\n",
    "    return(dicionario)"
   ]
  },
  {
   "cell_type": "code",
   "execution_count": 11,
   "id": "a0cefc83",
   "metadata": {},
   "outputs": [],
   "source": [
    "dados = open('D:\\posGraduacao\\Bibliografia\\AcordaosVotos.json', 'r')"
   ]
  },
  {
   "cell_type": "code",
   "execution_count": 12,
   "id": "fe6df294",
   "metadata": {},
   "outputs": [
    {
     "data": {
      "text/plain": [
       "_io.TextIOWrapper"
      ]
     },
     "execution_count": 12,
     "metadata": {},
     "output_type": "execute_result"
    }
   ],
   "source": [
    "type(dados)"
   ]
  },
  {
   "cell_type": "code",
   "execution_count": 49,
   "id": "281d3e58",
   "metadata": {},
   "outputs": [],
   "source": [
    "# read the entire file into a python array\n",
    "with open('D:\\posGraduacao\\Bibliografia\\AcordaosRelatorios.json', 'rb') as f:\n",
    "    data = f.readlines()"
   ]
  },
  {
   "cell_type": "code",
   "execution_count": 52,
   "id": "02c7bd2f",
   "metadata": {
    "scrolled": true
   },
   "outputs": [
    {
     "data": {
      "text/plain": [
       "b'{ \"_id\" : { \"$oid\" : \"5d0e657e4244ac55551b45e4\" }, \"relator\" : \"MIN_MARCO_AUR\\xc3\\x89LIO\", \"texto\" : \"O SENHOR MINISTRO MARCO AUR\\xc3\\x89LIO \\xe2\\x80\\x93 Adoto, como relat\\xc3\\xb3rio,  as informa\\xc3\\xa7\\xc3\\xb5es prestadas pela Assessoria:  Na  decis\\xc3\\xa3o  que  implicou  o  deferimento  da  liminar,  a  esp\\xc3\\xa9cie ficou assim resumida:  PRIS\\xc3\\x83O  PREVENTIVA  \\xe2\\x80\\x93  FUNDAMENTOS \\xe2\\x80\\x93  INSUBSIST\\xc3\\x8aNCIA \\xe2\\x80\\x93  EXCESSO  DE  PRAZO  \\xe2\\x80\\x93  RELEV\\xc3\\x82NCIA  DEMONSTRADA.  LIMINAR \\xe2\\x80\\x93 EXTENS\\xc3\\x83O A CORR\\xc3\\x89US.  1. A Assessoria prestou as seguintes informa\\xc3\\xa7\\xc3\\xb5es:  Consta do processo que Jos\\xc3\\xa9 Ribamar Mendes e  Valdeilson Pereira Costa foram presos em flagrante  delito no dia 30 de novembro de 2008 e o paciente,  em  virtude  de  decis\\xc3\\xa3o  determinando  a  cust\\xc3\\xb3dia  preventiva,  em  12  de  dezembro  subsequente.  Aos  primeiros  foi  imputada  a  pr\\xc3\\xa1tica  dos  crimes  de  homic\\xc3\\xaddio  duplamente  qualificado,  porte  ilegal  de  arma  de  fogo  de  uso  permitido  e  resist\\xc3\\xaancia,  tipificados nos artigos 121, \\xc2\\xa7 2\\xc2\\xba, incisos I e IV, e 329  do C\\xc3\\xb3digo Penal bem assim no artigo 14 da Lei n\\xc2\\xba     10.826/2003,  todos  em concurso  material  \\xe2\\x80\\x93  C\\xc3\\xb3digo  Penal,  artigo  69.  Ao  paciente  \\xe2\\x80\\x93  Edivaldo  Alves  da  Silva \\xe2\\x80\\x93 foi imputada a infra\\xc3\\xa7\\xc3\\xa3o do disposto no artigo  121,  \\xc2\\xa7  2\\xc2\\xba,  inciso  I,  do  C\\xc3\\xb3digo  Penal  (homic\\xc3\\xaddio  qualificado).  O  Ju\\xc3\\xadzo  Criminal  da  Comarca  de  Xambio\\xc3\\xa1,  Estado  do  Tocantins,  proferiu  a  senten\\xc3\\xa7a  de  pron\\xc3\\xbancia.  A  defesa  interp\\xc3\\xb4s  recurso  em  sentido  estrito, ao qual o Tribunal de Justi\\xc3\\xa7a deu provimento,  cassando o ato e determinando o retorno do processo  \\xc3\\xa0 primeira inst\\xc3\\xa2ncia para novo exame.  Sobreveio a segunda senten\\xc3\\xa7a de pron\\xc3\\xbancia em  29 de outubro de 2009, permanecendo o paciente sob  cust\\xc3\\xb3dia  porque  o  fato  se  revelara  de  grande  repercuss\\xc3\\xa3o social, tanto que os corr\\xc3\\xa9us precisaram  ser transferidos da cadeia p\\xc3\\xbablica local para pres\\xc3\\xaddio  de maior seguran\\xc3\\xa7a na cidade de Aragua\\xc3\\xadna. Al\\xc3\\xa9m  disso,  um deles  teria  empreendido  fuga  uma vez.  Desse  modo,  se  fossem  colocados  em  liberdade,  certamente  haveria  frustra\\xc3\\xa7\\xc3\\xa3o  na  aplica\\xc3\\xa7\\xc3\\xa3o  da  lei  penal,  em  caso  de  condena\\xc3\\xa7\\xc3\\xa3o.  A  liberdade  dos  envolvidos  tamb\\xc3\\xa9m  causaria  transtornos  \\xc3\\xa0  ordem  p\\xc3\\xbablica,  principalmente pelas graves consequ\\xc3\\xaancias  que  geraria  o  sentimento  generalizado  de  impunidade, e importaria em amea\\xc3\\xa7a \\xc3\\xa0 integridade  f\\xc3\\xadsica  das  testemunhas.  A pris\\xc3\\xa3o  processual  ficou  mantida  por  motivo  de  ordem  p\\xc3\\xbablica,  por  conveni\\xc3\\xaancia da instru\\xc3\\xa7\\xc3\\xa3o criminal e para assegurar  a aplica\\xc3\\xa7\\xc3\\xa3o da lei penal.  A defesa,  cientificada  da  decis\\xc3\\xa3o,  protocolou  novo recurso em sentido estrito. O Tribunal estadual  determinou ao Ju\\xc3\\xadzo Criminal que fosse intimado o  Minist\\xc3\\xa9rio  P\\xc3\\xbablico  para  oferecimento  de     contrarraz\\xc3\\xb5es.  Atualmente,  o  recurso  aguarda,  no  Tribunal, a designa\\xc3\\xa7\\xc3\\xa3o de data para aprecia\\xc3\\xa7\\xc3\\xa3o.  Inconformada com a manuten\\xc3\\xa7\\xc3\\xa3o da  cust\\xc3\\xb3dia  preventiva decorrente  da senten\\xc3\\xa7a  de pron\\xc3\\xbancia,  a  defesa impetrou habeas corpus no Tribunal de Justi\\xc3\\xa7a.  Pretendeu ver  assegurado ao paciente  o direito  de  permanecer  em  liberdade  at\\xc3\\xa9  o  julgamento  pelo  Tribunal do J\\xc3\\xbari. A ordem foi indeferida.  Na  impetra\\xc3\\xa7\\xc3\\xa3o  formalizada  no  Superior  Tribunal de Justi\\xc3\\xa7a \\xe2\\x80\\x93 de n\\xc2\\xba 167.987/TO \\xe2\\x80\\x93, a Ministra  Maria Thereza de Assis Moura, relatora, deixou de  acolher  o  pedido de concess\\xc3\\xa3o de  liminar  por  n\\xc3\\xa3o  vislumbrar  manifesta  ilegalidade  no  ac\\xc3\\xb3rd\\xc3\\xa3o  proferido pelo Tribunal de Justi\\xc3\\xa7a, mediante o qual  foi  mantida  a  pris\\xc3\\xa3o  preventiva,  conforme  consignou,  com  base  em  elementos  concretos.  Anotou  confundir-se  o  pleito  acautelador  com  o  m\\xc3\\xa9rito  do  processo,  cujo  julgamento  \\xc3\\xa9  da  compet\\xc3\\xaancia do colegiado.  Por meio deste  habeas,  os impetrantes buscam  infirmar essa decis\\xc3\\xa3o. Observam estar o paciente sob  cust\\xc3\\xb3dia  preventiva  h\\xc3\\xa1  um  ano,  quatro  meses  e  dezesseis  dias,  encontrando-se pendente de exame,  no Tribunal estadual, o segundo recurso em sentido  estrito. Afirmam ser deficiente de fundamenta\\xc3\\xa7\\xc3\\xa3o o  pronunciamento que implicou a pris\\xc3\\xa3o, mantida na  senten\\xc3\\xa7a de pron\\xc3\\xbancia, porque calcado em ila\\xc3\\xa7\\xc3\\xb5es e  na gravidade do delito imputado.  Pedem a concess\\xc3\\xa3o de liminar, determinando-se  a  expedi\\xc3\\xa7\\xc3\\xa3o  de  alvar\\xc3\\xa1  de  soltura,  considerado  o  excesso de prazo de pris\\xc3\\xa3o sem forma\\xc3\\xa7\\xc3\\xa3o da culpa.  Quanto  ao  m\\xc3\\xa9rito,  pleiteiam  o  deferimento  da     ordem,  assegurando-se  ao  paciente  o  direito  de  aguardar  em  liberdade  o  exame  do  Recurso  em  Sentido Estrito n\\xc2\\xba 2.457, em tramita\\xc3\\xa7\\xc3\\xa3o no Tribunal  de Justi\\xc3\\xa7a do Estado do Tocantins, e, caso confirmada  a senten\\xc3\\xa7a de pron\\xc3\\xbancia, o julgamento pelo Tribunal  do J\\xc3\\xbari.  Anoto que, na inicial, os impetrantes veiculam  duas  causas  de  pedir:  a  defici\\xc3\\xaancia  de  fundamenta\\xc3\\xa7\\xc3\\xa3o  da  decis\\xc3\\xa3o  mediante  a  qual  determinada a pris\\xc3\\xa3o preventiva, bem assim da parte  dispositiva da senten\\xc3\\xa7a de pron\\xc3\\xbancia que implicou a  manuten\\xc3\\xa7\\xc3\\xa3o,  e  o  excesso  de  prazo  de  pris\\xc3\\xa3o  sem  forma\\xc3\\xa7\\xc3\\xa3o  da  culpa.  Os  pedidos  de  liminar  e  de  deferimento  da  ordem  est\\xc3\\xa3o  circunscritos  \\xc3\\xa0  tese  relacionada \\xc3\\xa0 \\xc3\\xbaltima causa de pedir.  O Tribunal  de  Justi\\xc3\\xa7a,  por  meio  do  Of\\xc3\\xadcio  n\\xc2\\xba  885, de 1\\xc2\\xba de outubro de 2010, noticiou o julgamento,  na  sess\\xc3\\xa3o  de  17  de  junho  de  2010,  do  recurso  em  sentido estrito, oportunidade na qual lhe foi negado  provimento.  Por  meio  de  telegrama,  a  Sexta  Turma  do  Superior  Tribunal  de  Justi\\xc3\\xa7a  informa  ter  sido  indeferida  a  ordem  pleiteada  no  Habeas  Corpus n\\xc2\\xba  167.987/TO, distribu\\xc3\\xaddo \\xc3\\xa0 Ministra Maria Thereza de  Assis Moura. O Colegiado entendeu n\\xc3\\xa3o ser ilegal a  preventiva, pois o ato fundou-se em dados concretos,  especialmente extra\\xc3\\xaddos da conduta perpetrada pelo  acusado, demonstrando a necessidade da pris\\xc3\\xa3o para  garantia  da  ordem  p\\xc3\\xbablica,  conveni\\xc3\\xaancia  da  instru\\xc3\\xa7\\xc3\\xa3o criminal e aplica\\xc3\\xa7\\xc3\\xa3o da lei penal.  [...]    Bras\\xc3\\xadlia \\xe2\\x80\\x93 resid\\xc3\\xaancia \\xe2\\x80\\x93, 8 de mar\\xc3\\xa7o de 2011, \\xc3\\xa0s 12h35.  A Procuradoria Geral da Rep\\xc3\\xbablica, no parecer, afirma que  o  ato  mediante  o  qual  foi  decretada  a  pris\\xc3\\xa3o  preventiva  do  paciente  encontra-se  devidamente  fundamentado.  Ressalta  estarem  presentes  os  requisitos  da  cust\\xc3\\xb3dia  cautelar,  n\\xc3\\xa3o  existindo ilegalidade a  reparar.  Quanto  ao  excesso  de  prazo,  aduz ter ficado superado, ante o fato de o Tribunal de Justi\\xc3\\xa7a  local  haver  julgado  o  recurso  em  sentido  estrito.  Citando  precedentes  jurisprudenciais,  opina  pelo  indeferimento  da  ordem.  Lancei visto no processo em 7 de maio de 2012, liberando-o para ser  julgado na Turma a partir de 15 seguinte, isso objetivando a ci\\xc3\\xaancia dos  impetrantes.  \\xc3\\x89 o relat\\xc3\\xb3rio. \" }\\n'"
      ]
     },
     "execution_count": 52,
     "metadata": {},
     "output_type": "execute_result"
    }
   ],
   "source": [
    "databytes = data[0]\n",
    "databytes"
   ]
  },
  {
   "cell_type": "code",
   "execution_count": 53,
   "id": "f7c0a843",
   "metadata": {},
   "outputs": [
    {
     "data": {
      "text/plain": [
       "bytes"
      ]
     },
     "execution_count": 53,
     "metadata": {},
     "output_type": "execute_result"
    }
   ],
   "source": [
    "type(databytes)"
   ]
  },
  {
   "cell_type": "code",
   "execution_count": 55,
   "id": "5e02a3ba",
   "metadata": {},
   "outputs": [],
   "source": [
    "datadecode = databytes.decode(encoding='utf-8')"
   ]
  },
  {
   "cell_type": "code",
   "execution_count": 56,
   "id": "3e1f60f3",
   "metadata": {},
   "outputs": [
    {
     "data": {
      "text/plain": [
       "str"
      ]
     },
     "execution_count": 56,
     "metadata": {},
     "output_type": "execute_result"
    }
   ],
   "source": [
    "type(datadecode)"
   ]
  },
  {
   "cell_type": "code",
   "execution_count": 57,
   "id": "b2f76260",
   "metadata": {
    "scrolled": true
   },
   "outputs": [
    {
     "data": {
      "text/plain": [
       "'{ \"_id\" : { \"$oid\" : \"5d0e657e4244ac55551b45e4\" }, \"relator\" : \"MIN_MARCO_AURÉLIO\", \"texto\" : \"O SENHOR MINISTRO MARCO AURÉLIO – Adoto, como relatório,  as informações prestadas pela Assessoria:  Na  decisão  que  implicou  o  deferimento  da  liminar,  a  espécie ficou assim resumida:  PRISÃO  PREVENTIVA  –  FUNDAMENTOS –  INSUBSISTÊNCIA –  EXCESSO  DE  PRAZO  –  RELEVÂNCIA  DEMONSTRADA.  LIMINAR – EXTENSÃO A CORRÉUS.  1. A Assessoria prestou as seguintes informações:  Consta do processo que José Ribamar Mendes e  Valdeilson Pereira Costa foram presos em flagrante  delito no dia 30 de novembro de 2008 e o paciente,  em  virtude  de  decisão  determinando  a  custódia  preventiva,  em  12  de  dezembro  subsequente.  Aos  primeiros  foi  imputada  a  prática  dos  crimes  de  homicídio  duplamente  qualificado,  porte  ilegal  de  arma  de  fogo  de  uso  permitido  e  resistência,  tipificados nos artigos 121, § 2º, incisos I e IV, e 329  do Código Penal bem assim no artigo 14 da Lei nº     10.826/2003,  todos  em concurso  material  –  Código  Penal,  artigo  69.  Ao  paciente  –  Edivaldo  Alves  da  Silva – foi imputada a infração do disposto no artigo  121,  §  2º,  inciso  I,  do  Código  Penal  (homicídio  qualificado).  O  Juízo  Criminal  da  Comarca  de  Xambioá,  Estado  do  Tocantins,  proferiu  a  sentença  de  pronúncia.  A  defesa  interpôs  recurso  em  sentido  estrito, ao qual o Tribunal de Justiça deu provimento,  cassando o ato e determinando o retorno do processo  à primeira instância para novo exame.  Sobreveio a segunda sentença de pronúncia em  29 de outubro de 2009, permanecendo o paciente sob  custódia  porque  o  fato  se  revelara  de  grande  repercussão social, tanto que os corréus precisaram  ser transferidos da cadeia pública local para presídio  de maior segurança na cidade de Araguaína. Além  disso,  um deles  teria  empreendido  fuga  uma vez.  Desse  modo,  se  fossem  colocados  em  liberdade,  certamente  haveria  frustração  na  aplicação  da  lei  penal,  em  caso  de  condenação.  A  liberdade  dos  envolvidos  também  causaria  transtornos  à  ordem  pública,  principalmente pelas graves consequências  que  geraria  o  sentimento  generalizado  de  impunidade, e importaria em ameaça à integridade  física  das  testemunhas.  A prisão  processual  ficou  mantida  por  motivo  de  ordem  pública,  por  conveniência da instrução criminal e para assegurar  a aplicação da lei penal.  A defesa,  cientificada  da  decisão,  protocolou  novo recurso em sentido estrito. O Tribunal estadual  determinou ao Juízo Criminal que fosse intimado o  Ministério  Público  para  oferecimento  de     contrarrazões.  Atualmente,  o  recurso  aguarda,  no  Tribunal, a designação de data para apreciação.  Inconformada com a manutenção da  custódia  preventiva decorrente  da sentença  de pronúncia,  a  defesa impetrou habeas corpus no Tribunal de Justiça.  Pretendeu ver  assegurado ao paciente  o direito  de  permanecer  em  liberdade  até  o  julgamento  pelo  Tribunal do Júri. A ordem foi indeferida.  Na  impetração  formalizada  no  Superior  Tribunal de Justiça – de nº 167.987/TO –, a Ministra  Maria Thereza de Assis Moura, relatora, deixou de  acolher  o  pedido de concessão de  liminar  por  não  vislumbrar  manifesta  ilegalidade  no  acórdão  proferido pelo Tribunal de Justiça, mediante o qual  foi  mantida  a  prisão  preventiva,  conforme  consignou,  com  base  em  elementos  concretos.  Anotou  confundir-se  o  pleito  acautelador  com  o  mérito  do  processo,  cujo  julgamento  é  da  competência do colegiado.  Por meio deste  habeas,  os impetrantes buscam  infirmar essa decisão. Observam estar o paciente sob  custódia  preventiva  há  um  ano,  quatro  meses  e  dezesseis  dias,  encontrando-se pendente de exame,  no Tribunal estadual, o segundo recurso em sentido  estrito. Afirmam ser deficiente de fundamentação o  pronunciamento que implicou a prisão, mantida na  sentença de pronúncia, porque calcado em ilações e  na gravidade do delito imputado.  Pedem a concessão de liminar, determinando-se  a  expedição  de  alvará  de  soltura,  considerado  o  excesso de prazo de prisão sem formação da culpa.  Quanto  ao  mérito,  pleiteiam  o  deferimento  da     ordem,  assegurando-se  ao  paciente  o  direito  de  aguardar  em  liberdade  o  exame  do  Recurso  em  Sentido Estrito nº 2.457, em tramitação no Tribunal  de Justiça do Estado do Tocantins, e, caso confirmada  a sentença de pronúncia, o julgamento pelo Tribunal  do Júri.  Anoto que, na inicial, os impetrantes veiculam  duas  causas  de  pedir:  a  deficiência  de  fundamentação  da  decisão  mediante  a  qual  determinada a prisão preventiva, bem assim da parte  dispositiva da sentença de pronúncia que implicou a  manutenção,  e  o  excesso  de  prazo  de  prisão  sem  formação  da  culpa.  Os  pedidos  de  liminar  e  de  deferimento  da  ordem  estão  circunscritos  à  tese  relacionada à última causa de pedir.  O Tribunal  de  Justiça,  por  meio  do  Ofício  nº  885, de 1º de outubro de 2010, noticiou o julgamento,  na  sessão  de  17  de  junho  de  2010,  do  recurso  em  sentido estrito, oportunidade na qual lhe foi negado  provimento.  Por  meio  de  telegrama,  a  Sexta  Turma  do  Superior  Tribunal  de  Justiça  informa  ter  sido  indeferida  a  ordem  pleiteada  no  Habeas  Corpus nº  167.987/TO, distribuído à Ministra Maria Thereza de  Assis Moura. O Colegiado entendeu não ser ilegal a  preventiva, pois o ato fundou-se em dados concretos,  especialmente extraídos da conduta perpetrada pelo  acusado, demonstrando a necessidade da prisão para  garantia  da  ordem  pública,  conveniência  da  instrução criminal e aplicação da lei penal.  [...]    Brasília – residência –, 8 de março de 2011, às 12h35.  A Procuradoria Geral da República, no parecer, afirma que  o  ato  mediante  o  qual  foi  decretada  a  prisão  preventiva  do  paciente  encontra-se  devidamente  fundamentado.  Ressalta  estarem  presentes  os  requisitos  da  custódia  cautelar,  não  existindo ilegalidade a  reparar.  Quanto  ao  excesso  de  prazo,  aduz ter ficado superado, ante o fato de o Tribunal de Justiça  local  haver  julgado  o  recurso  em  sentido  estrito.  Citando  precedentes  jurisprudenciais,  opina  pelo  indeferimento  da  ordem.  Lancei visto no processo em 7 de maio de 2012, liberando-o para ser  julgado na Turma a partir de 15 seguinte, isso objetivando a ciência dos  impetrantes.  É o relatório. \" }\\n'"
      ]
     },
     "execution_count": 57,
     "metadata": {},
     "output_type": "execute_result"
    }
   ],
   "source": [
    "datadecode"
   ]
  },
  {
   "cell_type": "code",
   "execution_count": 59,
   "id": "9fac3b3a",
   "metadata": {
    "scrolled": true
   },
   "outputs": [],
   "source": [
    "datajson = json.loads(datadecode)"
   ]
  },
  {
   "cell_type": "code",
   "execution_count": 60,
   "id": "fe373a03",
   "metadata": {},
   "outputs": [
    {
     "data": {
      "text/plain": [
       "dict"
      ]
     },
     "execution_count": 60,
     "metadata": {},
     "output_type": "execute_result"
    }
   ],
   "source": [
    "type(datajson)"
   ]
  },
  {
   "cell_type": "code",
   "execution_count": 61,
   "id": "11816428",
   "metadata": {},
   "outputs": [
    {
     "data": {
      "text/plain": [
       "{'_id': {'$oid': '5d0e657e4244ac55551b45e4'},\n",
       " 'relator': 'MIN_MARCO_AURÉLIO',\n",
       " 'texto': 'O SENHOR MINISTRO MARCO AURÉLIO – Adoto, como relatório,  as informações prestadas pela Assessoria:  Na  decisão  que  implicou  o  deferimento  da  liminar,  a  espécie ficou assim resumida:  PRISÃO  PREVENTIVA  –  FUNDAMENTOS –  INSUBSISTÊNCIA –  EXCESSO  DE  PRAZO  –  RELEVÂNCIA  DEMONSTRADA.  LIMINAR – EXTENSÃO A CORRÉUS.  1. A Assessoria prestou as seguintes informações:  Consta do processo que José Ribamar Mendes e  Valdeilson Pereira Costa foram presos em flagrante  delito no dia 30 de novembro de 2008 e o paciente,  em  virtude  de  decisão  determinando  a  custódia  preventiva,  em  12  de  dezembro  subsequente.  Aos  primeiros  foi  imputada  a  prática  dos  crimes  de  homicídio  duplamente  qualificado,  porte  ilegal  de  arma  de  fogo  de  uso  permitido  e  resistência,  tipificados nos artigos 121, § 2º, incisos I e IV, e 329  do Código Penal bem assim no artigo 14 da Lei nº     10.826/2003,  todos  em concurso  material  –  Código  Penal,  artigo  69.  Ao  paciente  –  Edivaldo  Alves  da  Silva – foi imputada a infração do disposto no artigo  121,  §  2º,  inciso  I,  do  Código  Penal  (homicídio  qualificado).  O  Juízo  Criminal  da  Comarca  de  Xambioá,  Estado  do  Tocantins,  proferiu  a  sentença  de  pronúncia.  A  defesa  interpôs  recurso  em  sentido  estrito, ao qual o Tribunal de Justiça deu provimento,  cassando o ato e determinando o retorno do processo  à primeira instância para novo exame.  Sobreveio a segunda sentença de pronúncia em  29 de outubro de 2009, permanecendo o paciente sob  custódia  porque  o  fato  se  revelara  de  grande  repercussão social, tanto que os corréus precisaram  ser transferidos da cadeia pública local para presídio  de maior segurança na cidade de Araguaína. Além  disso,  um deles  teria  empreendido  fuga  uma vez.  Desse  modo,  se  fossem  colocados  em  liberdade,  certamente  haveria  frustração  na  aplicação  da  lei  penal,  em  caso  de  condenação.  A  liberdade  dos  envolvidos  também  causaria  transtornos  à  ordem  pública,  principalmente pelas graves consequências  que  geraria  o  sentimento  generalizado  de  impunidade, e importaria em ameaça à integridade  física  das  testemunhas.  A prisão  processual  ficou  mantida  por  motivo  de  ordem  pública,  por  conveniência da instrução criminal e para assegurar  a aplicação da lei penal.  A defesa,  cientificada  da  decisão,  protocolou  novo recurso em sentido estrito. O Tribunal estadual  determinou ao Juízo Criminal que fosse intimado o  Ministério  Público  para  oferecimento  de     contrarrazões.  Atualmente,  o  recurso  aguarda,  no  Tribunal, a designação de data para apreciação.  Inconformada com a manutenção da  custódia  preventiva decorrente  da sentença  de pronúncia,  a  defesa impetrou habeas corpus no Tribunal de Justiça.  Pretendeu ver  assegurado ao paciente  o direito  de  permanecer  em  liberdade  até  o  julgamento  pelo  Tribunal do Júri. A ordem foi indeferida.  Na  impetração  formalizada  no  Superior  Tribunal de Justiça – de nº 167.987/TO –, a Ministra  Maria Thereza de Assis Moura, relatora, deixou de  acolher  o  pedido de concessão de  liminar  por  não  vislumbrar  manifesta  ilegalidade  no  acórdão  proferido pelo Tribunal de Justiça, mediante o qual  foi  mantida  a  prisão  preventiva,  conforme  consignou,  com  base  em  elementos  concretos.  Anotou  confundir-se  o  pleito  acautelador  com  o  mérito  do  processo,  cujo  julgamento  é  da  competência do colegiado.  Por meio deste  habeas,  os impetrantes buscam  infirmar essa decisão. Observam estar o paciente sob  custódia  preventiva  há  um  ano,  quatro  meses  e  dezesseis  dias,  encontrando-se pendente de exame,  no Tribunal estadual, o segundo recurso em sentido  estrito. Afirmam ser deficiente de fundamentação o  pronunciamento que implicou a prisão, mantida na  sentença de pronúncia, porque calcado em ilações e  na gravidade do delito imputado.  Pedem a concessão de liminar, determinando-se  a  expedição  de  alvará  de  soltura,  considerado  o  excesso de prazo de prisão sem formação da culpa.  Quanto  ao  mérito,  pleiteiam  o  deferimento  da     ordem,  assegurando-se  ao  paciente  o  direito  de  aguardar  em  liberdade  o  exame  do  Recurso  em  Sentido Estrito nº 2.457, em tramitação no Tribunal  de Justiça do Estado do Tocantins, e, caso confirmada  a sentença de pronúncia, o julgamento pelo Tribunal  do Júri.  Anoto que, na inicial, os impetrantes veiculam  duas  causas  de  pedir:  a  deficiência  de  fundamentação  da  decisão  mediante  a  qual  determinada a prisão preventiva, bem assim da parte  dispositiva da sentença de pronúncia que implicou a  manutenção,  e  o  excesso  de  prazo  de  prisão  sem  formação  da  culpa.  Os  pedidos  de  liminar  e  de  deferimento  da  ordem  estão  circunscritos  à  tese  relacionada à última causa de pedir.  O Tribunal  de  Justiça,  por  meio  do  Ofício  nº  885, de 1º de outubro de 2010, noticiou o julgamento,  na  sessão  de  17  de  junho  de  2010,  do  recurso  em  sentido estrito, oportunidade na qual lhe foi negado  provimento.  Por  meio  de  telegrama,  a  Sexta  Turma  do  Superior  Tribunal  de  Justiça  informa  ter  sido  indeferida  a  ordem  pleiteada  no  Habeas  Corpus nº  167.987/TO, distribuído à Ministra Maria Thereza de  Assis Moura. O Colegiado entendeu não ser ilegal a  preventiva, pois o ato fundou-se em dados concretos,  especialmente extraídos da conduta perpetrada pelo  acusado, demonstrando a necessidade da prisão para  garantia  da  ordem  pública,  conveniência  da  instrução criminal e aplicação da lei penal.  [...]    Brasília – residência –, 8 de março de 2011, às 12h35.  A Procuradoria Geral da República, no parecer, afirma que  o  ato  mediante  o  qual  foi  decretada  a  prisão  preventiva  do  paciente  encontra-se  devidamente  fundamentado.  Ressalta  estarem  presentes  os  requisitos  da  custódia  cautelar,  não  existindo ilegalidade a  reparar.  Quanto  ao  excesso  de  prazo,  aduz ter ficado superado, ante o fato de o Tribunal de Justiça  local  haver  julgado  o  recurso  em  sentido  estrito.  Citando  precedentes  jurisprudenciais,  opina  pelo  indeferimento  da  ordem.  Lancei visto no processo em 7 de maio de 2012, liberando-o para ser  julgado na Turma a partir de 15 seguinte, isso objetivando a ciência dos  impetrantes.  É o relatório. '}"
      ]
     },
     "execution_count": 61,
     "metadata": {},
     "output_type": "execute_result"
    }
   ],
   "source": [
    "datajson"
   ]
  },
  {
   "cell_type": "code",
   "execution_count": 63,
   "id": "8953fd9e",
   "metadata": {
    "scrolled": true
   },
   "outputs": [
    {
     "data": {
      "text/plain": [
       "'O SENHOR MINISTRO MARCO AURÉLIO – Adoto, como relatório,  as informações prestadas pela Assessoria:  Na  decisão  que  implicou  o  deferimento  da  liminar,  a  espécie ficou assim resumida:  PRISÃO  PREVENTIVA  –  FUNDAMENTOS –  INSUBSISTÊNCIA –  EXCESSO  DE  PRAZO  –  RELEVÂNCIA  DEMONSTRADA.  LIMINAR – EXTENSÃO A CORRÉUS.  1. A Assessoria prestou as seguintes informações:  Consta do processo que José Ribamar Mendes e  Valdeilson Pereira Costa foram presos em flagrante  delito no dia 30 de novembro de 2008 e o paciente,  em  virtude  de  decisão  determinando  a  custódia  preventiva,  em  12  de  dezembro  subsequente.  Aos  primeiros  foi  imputada  a  prática  dos  crimes  de  homicídio  duplamente  qualificado,  porte  ilegal  de  arma  de  fogo  de  uso  permitido  e  resistência,  tipificados nos artigos 121, § 2º, incisos I e IV, e 329  do Código Penal bem assim no artigo 14 da Lei nº     10.826/2003,  todos  em concurso  material  –  Código  Penal,  artigo  69.  Ao  paciente  –  Edivaldo  Alves  da  Silva – foi imputada a infração do disposto no artigo  121,  §  2º,  inciso  I,  do  Código  Penal  (homicídio  qualificado).  O  Juízo  Criminal  da  Comarca  de  Xambioá,  Estado  do  Tocantins,  proferiu  a  sentença  de  pronúncia.  A  defesa  interpôs  recurso  em  sentido  estrito, ao qual o Tribunal de Justiça deu provimento,  cassando o ato e determinando o retorno do processo  à primeira instância para novo exame.  Sobreveio a segunda sentença de pronúncia em  29 de outubro de 2009, permanecendo o paciente sob  custódia  porque  o  fato  se  revelara  de  grande  repercussão social, tanto que os corréus precisaram  ser transferidos da cadeia pública local para presídio  de maior segurança na cidade de Araguaína. Além  disso,  um deles  teria  empreendido  fuga  uma vez.  Desse  modo,  se  fossem  colocados  em  liberdade,  certamente  haveria  frustração  na  aplicação  da  lei  penal,  em  caso  de  condenação.  A  liberdade  dos  envolvidos  também  causaria  transtornos  à  ordem  pública,  principalmente pelas graves consequências  que  geraria  o  sentimento  generalizado  de  impunidade, e importaria em ameaça à integridade  física  das  testemunhas.  A prisão  processual  ficou  mantida  por  motivo  de  ordem  pública,  por  conveniência da instrução criminal e para assegurar  a aplicação da lei penal.  A defesa,  cientificada  da  decisão,  protocolou  novo recurso em sentido estrito. O Tribunal estadual  determinou ao Juízo Criminal que fosse intimado o  Ministério  Público  para  oferecimento  de     contrarrazões.  Atualmente,  o  recurso  aguarda,  no  Tribunal, a designação de data para apreciação.  Inconformada com a manutenção da  custódia  preventiva decorrente  da sentença  de pronúncia,  a  defesa impetrou habeas corpus no Tribunal de Justiça.  Pretendeu ver  assegurado ao paciente  o direito  de  permanecer  em  liberdade  até  o  julgamento  pelo  Tribunal do Júri. A ordem foi indeferida.  Na  impetração  formalizada  no  Superior  Tribunal de Justiça – de nº 167.987/TO –, a Ministra  Maria Thereza de Assis Moura, relatora, deixou de  acolher  o  pedido de concessão de  liminar  por  não  vislumbrar  manifesta  ilegalidade  no  acórdão  proferido pelo Tribunal de Justiça, mediante o qual  foi  mantida  a  prisão  preventiva,  conforme  consignou,  com  base  em  elementos  concretos.  Anotou  confundir-se  o  pleito  acautelador  com  o  mérito  do  processo,  cujo  julgamento  é  da  competência do colegiado.  Por meio deste  habeas,  os impetrantes buscam  infirmar essa decisão. Observam estar o paciente sob  custódia  preventiva  há  um  ano,  quatro  meses  e  dezesseis  dias,  encontrando-se pendente de exame,  no Tribunal estadual, o segundo recurso em sentido  estrito. Afirmam ser deficiente de fundamentação o  pronunciamento que implicou a prisão, mantida na  sentença de pronúncia, porque calcado em ilações e  na gravidade do delito imputado.  Pedem a concessão de liminar, determinando-se  a  expedição  de  alvará  de  soltura,  considerado  o  excesso de prazo de prisão sem formação da culpa.  Quanto  ao  mérito,  pleiteiam  o  deferimento  da     ordem,  assegurando-se  ao  paciente  o  direito  de  aguardar  em  liberdade  o  exame  do  Recurso  em  Sentido Estrito nº 2.457, em tramitação no Tribunal  de Justiça do Estado do Tocantins, e, caso confirmada  a sentença de pronúncia, o julgamento pelo Tribunal  do Júri.  Anoto que, na inicial, os impetrantes veiculam  duas  causas  de  pedir:  a  deficiência  de  fundamentação  da  decisão  mediante  a  qual  determinada a prisão preventiva, bem assim da parte  dispositiva da sentença de pronúncia que implicou a  manutenção,  e  o  excesso  de  prazo  de  prisão  sem  formação  da  culpa.  Os  pedidos  de  liminar  e  de  deferimento  da  ordem  estão  circunscritos  à  tese  relacionada à última causa de pedir.  O Tribunal  de  Justiça,  por  meio  do  Ofício  nº  885, de 1º de outubro de 2010, noticiou o julgamento,  na  sessão  de  17  de  junho  de  2010,  do  recurso  em  sentido estrito, oportunidade na qual lhe foi negado  provimento.  Por  meio  de  telegrama,  a  Sexta  Turma  do  Superior  Tribunal  de  Justiça  informa  ter  sido  indeferida  a  ordem  pleiteada  no  Habeas  Corpus nº  167.987/TO, distribuído à Ministra Maria Thereza de  Assis Moura. O Colegiado entendeu não ser ilegal a  preventiva, pois o ato fundou-se em dados concretos,  especialmente extraídos da conduta perpetrada pelo  acusado, demonstrando a necessidade da prisão para  garantia  da  ordem  pública,  conveniência  da  instrução criminal e aplicação da lei penal.  [...]    Brasília – residência –, 8 de março de 2011, às 12h35.  A Procuradoria Geral da República, no parecer, afirma que  o  ato  mediante  o  qual  foi  decretada  a  prisão  preventiva  do  paciente  encontra-se  devidamente  fundamentado.  Ressalta  estarem  presentes  os  requisitos  da  custódia  cautelar,  não  existindo ilegalidade a  reparar.  Quanto  ao  excesso  de  prazo,  aduz ter ficado superado, ante o fato de o Tribunal de Justiça  local  haver  julgado  o  recurso  em  sentido  estrito.  Citando  precedentes  jurisprudenciais,  opina  pelo  indeferimento  da  ordem.  Lancei visto no processo em 7 de maio de 2012, liberando-o para ser  julgado na Turma a partir de 15 seguinte, isso objetivando a ciência dos  impetrantes.  É o relatório. '"
      ]
     },
     "execution_count": 63,
     "metadata": {},
     "output_type": "execute_result"
    }
   ],
   "source": [
    "datajson['texto']"
   ]
  },
  {
   "cell_type": "markdown",
   "id": "eb33a7cd",
   "metadata": {},
   "source": [
    "### Modelo de extração:\n",
    "[('Almira é uma ótima pessoa, gosto muito dela', {'entities': [(0, 6, 'PER')]}),\n",
    "  \n",
    " ('João foi para Bahia nas férias', {'entities': [(14, 19, 'LOC'), (0, 4, 'PER')]})]"
   ]
  },
  {
   "cell_type": "markdown",
   "id": "a06d8682",
   "metadata": {},
   "source": [
    "### Teste Marcar Entidades"
   ]
  },
  {
   "cell_type": "code",
   "execution_count": 82,
   "id": "dcfa4c6e",
   "metadata": {},
   "outputs": [],
   "source": [
    "pathJson = 'D:\\posGraduacao\\Bibliografia\\AcordaosRelatorios.json'"
   ]
  },
  {
   "cell_type": "code",
   "execution_count": 105,
   "id": "841b216a",
   "metadata": {
    "scrolled": true
   },
   "outputs": [
    {
     "data": {
      "text/plain": [
       "'O SENHOR MINISTRO CELSO DE MELLO – (Relator): Trata-se  de recurso de agravo que, tempestivamente interposto, insurge-se contra  decisão, por mim proferida, que deferiu o pedido de “habeas corpus” em  favor dos ora agravados.  A decisão em causa está assim ementada:  “‘HABEAS CORPUS’  –  RÉU  MILITAR  –  INSTRUÇÃO   PROCESSUAL –  PRETENDIDO COMPARECIMENTO À   AUDIÊNCIA  PENAL  EM  QUE  INQUIRIDO  O  CORRÉU  –   AUSÊNCIA DE OFERECIMENTO DE  TRANSPORTE PARA O   LOCAL  DE  REALIZAÇÃO  DO  ATO  PROCESSUAL –   CONSTRANGIMENTO  ILEGAL  CARACTERIZADO –  A   GARANTIA CONSTITUCIONAL DA PLENITUDE DE DEFESA:   UMA DAS PROJEÇÕES CONCRETIZADORAS DA CLÁUSULA  DO  ‘DUE  PROCESS  OF  LAW’  –  CARÁTER GLOBAL E   ABRANGENTE DA FUNÇÃO DEFENSIVA: DEFESA TÉCNICA E   AUTODEFESA (DIREITO  DE  AUDIÊNCIA  E DIREITO  DE   PRESENÇA)  –  PACTO INTERNACIONAL SOBRE  DIREITOS  CIVIS E POLÍTICOS/ONU (ARTIGO 14, N. 3, ‘D’) E CONVENÇÃO   AMERICANA DE DIREITOS HUMANOS/OEA (ARTIGO 8º, § 2º,   ‘D’  E  ‘F’)  –  DEVER DO ESTADO DE ASSEGURAR  AO RÉU      MILITAR O EXERCÍCIO  DESSA PRERROGATIVA ESSENCIAL,   ESPECIALMENTE A DE PROPICIAR TRANSPORTE   (DECRETO  Nº  4.307/2002,  ART.  28,    INCISO I),  PARA  COMPARECER À  AUDIÊNCIA  DE  INQUIRIÇÃO  DAS   TESTEMUNHAS,  AINDA MAIS QUANDO ARROLADAS PELO  MINISTÉRIO  PÚBLICO  –  RAZÕES DE  CONVENIÊNCIA  ADMINISTRATIVA  OU GOVERNAMENTAL  NÃO PODEM   LEGITIMAR O  DESRESPEITO  NEM COMPROMETER A  EFICÁCIA  E A  OBSERVÂNCIA  DESSA  FRANQUIA  CONSTITUCIONAL – NULIDADE PROCESSUAL ABSOLUTA –   PEDIDO DEFERIDO.  -  O acusado tem o direito de comparecer,  de assistir e de  presenciar,  sob  pena de  nulidade  absoluta,  os  atos  processuais,   notadamente aqueles  que  se  produzem  na  fase  de  instrução do   processo penal, que se realiza, sempre, sob a égide do contraditório.   São irrelevantes, para esse efeito,  as alegações do Poder Público  concernentes à dificuldade ou inconveniência de proceder ao custeio de   deslocamento do réu,  no interesse da Justiça,  para fora da sede de   sua  Organização  Militar,  eis que razões de mera conveniência   administrativa não têm – nem podem ter  –  precedência sobre  as   inafastáveis exigências  de  cumprimento  e de  respeito  ao que  determina a Constituição. Doutrina. Jurisprudência.  - O direito de audiência, de um lado, e o direito de presença  do réu, de outro,  esteja ele preso ou não,  traduzem prerrogativas   jurídicas essenciais  que derivam da garantia constitucional do ‘due   process  of  law’  e que asseguram,  por  isso  mesmo,  ao  acusado  o  direito de comparecer aos  atos  processuais  a  serem  realizados   perante o juízo processante, ainda que situado este em local diverso  daquele da sede da Organização Militar a que o réu esteja vinculado.   Pacto Internacional sobre  Direitos  Civis  e  Políticos/ONU   (Artigo  14,  n.  3,  ‘d’).  Convenção Americana de  Direitos   Humanos/OEA (Artigo 8º, § 2º, ‘d’ e ‘f’)  e Decreto nº 4.307/2002   (art. 28, inciso I).  - Essa prerrogativa processual  reveste-se de caráter fundamental,   pois compõe o próprio estatuto constitucional do direito de defesa,   enquanto complexo de princípios  e de normas que amparam  qualquer      acusado em sede de persecução criminal, seja perante a Justiça Comum,   seja perante a Justiça Militar. Precedentes.”  (HC 111.567/AM, Rel. Min. CELSO DE MELLO)   O  Ministério  Público  Federal,  parte  ora  agravante,  sustenta,  na  presente sede recursal,  em síntese, para justificar sua pretensão,  o que se  segue:  “O MINISTÉRIO PÚBLICO FEDERAL, inconformado, em  parte, com a r. decisão que concedeu a ordem de ‘habeas corpus’ aos   pacientes, vem com fundamento no art. 317 do RISTF, e art. 557, § 1º,   do  CPC,  pedir  a  sua  reconsideração  ou,  se  assim  não  for,  que  a   presente impugnação seja conhecida como AGRAVO REGIMENTAL   pelas razões a seguir expostas.  1.  O  presente  ‘habeas  corpus’  foi  impetrado para  o  fim   específico  de  garantir  aos  pacientes  DANILO  DO  PRADO   OLIVEIRA,  WELLINTON SOUZA VILELA,  LUCAS MOREIRA  NETHER e WILLIAM ANACLETO BRUGNAGO CORDEIRO ‘a   requisição e apresentação dos pacientes ao longo de todos os atos de   instrução e julgamento do feito’.  2.  No  entanto,  na  petição  inicial,  o  impetrante  refere-se   expressamente  à  requisição  e  apresentação  dos  pacientes  para   acompanhar  a  audiência  de  interrogatório  de  corréu,  que  seria   realizada no dia 16/02/2012.  3.  Em  sua  manifestação,  o  Ministério  Público  ressaltou   expressamente  que  a  questão  não  podia  envolver  o  direito  dos   pacientes  de  estar  presentes  ao  interrogatório  do  corréu,  pois  há   expressa vedação legal nesse sentido.  4.  Com efeito,  determina  o  art.  304 do  Código  de  Processo   Penal Militar, que, ‘se houver mais de um acusado, será cada um deles   interrogado separadamente’. O objetivo da norma é o de garantir ao   acusado  a  mais  absoluta  liberdade  para  exercer  o  seu  direito   constitucional de autodefesa, sem restrições ou constrangimentos de   qualquer espécie, que poderia decorrer da presença, no ato, de outros   acusados.    5. Nas palavras de Guilherme de Souza Nucci, ‘é a forma   correta de evitar  a influência de um corréu sobre outro,  levando-o,   muitas vezes, à confissão ou à falsa acusação. (…) O objetivo maior é   evitar que, no mesmo instante em que um corréu está sendo ouvido, o   outro  absorva  a  narrativa,  podendo  ser  influenciado  emocional  ou   psicologicamente pelas declarações, alterando as suas, por sua conta e   risco, podendo representar, para a sua defesa técnica, a pior opção. Não   se  tem  por  meta  fazer  com  que  o  interrogatório  seja  uma  peça   imparcial  e  genuinamente  idônea,  porque  não  faz  parte  da  sua   natureza,  mas  sim  que  não  existam  influências  momentâneas,   prejudiciais à defesa daquele que altera a sua versão, somente porque   ouviu  o  interrogatório  precedente  do  corréu’  (Código  de  Processo   Penal  Militar  Comentado,  Editora  Revista  dos  Tribunais,  2013,   pág. 303/304).  6.  Assim,  vedada  legalmente  a  presença  dos  pacientes  no   interrogatório do corréu, não pode o Estado ser compelido a custear as   suas despesas para comparecimento à audiência designada para tanto.  7. A decisão proferida por Vossa Excelência não excetuou   essa hipótese, o que levara a eminente defesa à equivocada conclusão   de que os pacientes podem comparecer e assistir ao interrogatório dos   corréus,  invocando eventual nulidade e  descumprimento da decisão   dessa Colenda Corte, no caso de o Juízo, com base na lei processual,   negar-lhes essa possibilidade.  8. Assim, o presente agravo tem por objetivo a modificação da   decisão que concedeu o ‘habeas corpus’ especificamente nesse ponto,   para  que  seja  denegada  a  ordem  na  parte  em  que  pretende  o   Impetrante  que  o  Estado  custeie  as  despesas  dos  pacientes  para   comparecimento à audiência de interrogatório dos corréus, tendo em   vista  que,  por  expressa  vedação  legal,  não  podem assistir  ao  ato.”  (grifei)  Por não me convencer das razões expostas pela parte ora agravante,  submeto à apreciação desta colenda Turma o presente recurso de agravo.  É o relatório. '"
      ]
     },
     "execution_count": 105,
     "metadata": {},
     "output_type": "execute_result"
    }
   ],
   "source": [
    "textos = []\n",
    "with open(pathJson, 'rb') as f:\n",
    "    dados = f.readlines()\n",
    "    for databyte in dados:\n",
    "        datadecode = databyte.decode(encoding='utf-8')\n",
    "        datajson = json.loads(datadecode)\n",
    "        texto = datajson['texto']\n",
    "        textos.append(texto)\n",
    "textos[2]"
   ]
  },
  {
   "cell_type": "code",
   "execution_count": 106,
   "id": "0142d32f",
   "metadata": {},
   "outputs": [],
   "source": [
    "def textoJSON(pathJSON):\n",
    "    textos = []\n",
    "    with open(pathJson, 'rb') as f:\n",
    "        dados = f.readlines()\n",
    "        for databyte in dados:\n",
    "            datadecode = databyte.decode(encoding='utf-8')\n",
    "            datajson = json.loads(datadecode)\n",
    "            texto = datajson['texto']\n",
    "            textos.append(texto)\n",
    "    return(textos)"
   ]
  },
  {
   "cell_type": "code",
   "execution_count": 108,
   "id": "9ef12527",
   "metadata": {},
   "outputs": [
    {
     "data": {
      "text/plain": [
       "41353"
      ]
     },
     "execution_count": 108,
     "metadata": {},
     "output_type": "execute_result"
    }
   ],
   "source": [
    "textos = textoJSON(pathJson)\n",
    "len(textos)"
   ]
  },
  {
   "cell_type": "code",
   "execution_count": 111,
   "id": "e83334ca",
   "metadata": {},
   "outputs": [
    {
     "data": {
      "text/plain": [
       "'O SENHOR MINISTRO LUÍS ROBERTO BARROSO (RELATOR)  1. Trata-se de habeas corpus em favor de paciente acusada por  tentativa de furto qualificado (CP, art. 155, § 4º, IV, c/c art. 14, II) de dois  sabonetes líquidos íntimos, avaliados em R$ 48,00 (quarenta e oito reais).   2. Narra a denúncia:  “Consta  do  incluso  inquérito  policial  que  no  dia  30  de  setembro de 2010, por volta das 12h30min, na Rua Deputado  Emilio  Carlos,  nº  1129,  nesta  Cidade  [São  Paulo/SP],  WELLINGTON  AGUIAR e  JESSICA  TATIANE  ALVES  PEREIRA,  respectivamente  qualificados  às  fls.  17  e  22,  subtraíram  para  proveito  comum,  dois  sabonetes  líquidos  ínitmo, marca Dermacid, avaliados em R$ 48,00 (quarenta e oito   reais),  conforme  auto  de  exibição  e  apreensão  de  folhas  11,  pertencente  ao  estabelecimento  Empório  Carisma  Ltda.,  representada por Yoshimitsu Chinen.  Conforme se apurou os indiciados após se ajustarem para  a  prática  do  furto,  se  dirigiram  ao  referido  estabelecimento  comercial.  Assim,  a  indiciada  JESSICA  subtraiu  os  frascos  de  sabonete líquido, colocando-os dentro da bolsa, ao passo que o     comparsa  WELLINGTON  se  posicionava  em  frente  a  ela  comparsa para que a ação criminosa não fosse vista.  Os  agentes  saíram  do  estabelecimento  na  possa  da  res   furtiva,  porém  foram  abordados  pelo  representante  do  estabelecimento, que ao revistar a bolsa da indiciada, encontrou  os  objetos  furtados,  acionando  então  policiais  militares  que  compareceram no local e efetuaram a prisão em flagrante.  Os  indiciados ostentam antecedentes criminais.” (sic  –  destaques  no original)  3. Ambos os réus foram condenados por tentativa de furto,  qualificado  pelo  concurso  de  agentes.  Reconhecida  na  sentença  a  reincidência dos agentes, a pena para os dois denunciados foi fixada em  um ano e dois meses de reclusão, em regime inicial semiaberto, e cinco  dias-multa, sem substituição por pena restritiva de direitos. Determinou- se na sentença a expedição de mandados de prisão, porque os acusados,  no  gozo  de  liberdade  provisória  condicionada  ao  comparecimento  a  todos os atos do processo, teriam faltado à audiência de instrução.  4. Impetrado habeas corpus pela defesa no Tribunal de Justiça  do Estado de São Paulo, a ordem foi denegada nos seguintes termos:  “HABEAS  CORPUS  -  FURTO  QUALIFICADO   -  CONCURSO  DE  AGENTES  -  SENTENÇA  CONDENATÓRIA MOTIVADA - CONDUTA QUE POSSUI  RAZOÁVEL  GRAU  DE  INADEQUAÇÃO  SOCIAL  -  INVIÁVEL  A  INCIDÊNCIA,  NO  CASO  EM  TELA,  DO  PRINCÍPIO  DA  INSIGNIFICÂNCIA  -  PRESENÇA  DOS  PRESUPOSTOS  LEGAIS  DA  PRISÃO  PREVENTIVA  -  ORDEM DENEGADA.”  5. O  mesmo  Tribunal  igualmente  negou  provimento  à  apelação da defesa. Destacam-se a ementa e trecho do voto do relator:  “APELAÇÃO  -  FURTO  QUALIFICADO  TENTADO  -     CONCURSO DE AGENTES - AUTORIA E MATERIALIDADE  DEMONSTRADAS -  INVIABILIDADE DA INCIDÊNCIA DO  PRINCÍPIO  DA  INSIGNIFICÂNCIA  –  DOSIMETRIA  ADEQUADA - RECURSO IMPROVIDO.”  “Inviável,  no caso em tela,  a  incidência do princípio da  insignificância.  Pelo que verte dos autos, em que pese o reduzido valor da  res furtiva, a conduta dos réus, consideradas as características do  caso em tela, possui razoável grau de inadequação social.  Importa  considerar,  a  propósito,  que  os  acusados  são  reincidentes por crimes patrimoniais (fls. 76 e 82).  Ademais,  a  aplicação  do  princípio  da  insignificância,  instrumento de interpretação restritiva do tipo penal, não tem  como  pressuposto,  tão  somente,  a  baixa  ofensividade  da  conduta  dos  agentes,  pois,  dessa  forma,  não  se  estaria,  em  determinadas  situações,  promovendo  a  necessária  prevenção  penal,  mas  discriminações  e,  por  vezes,  o  incentivo  da  criminalidade,  em  particular,  no  âmbito  dos  crimes  patrimoniais.  Importa  considerar,  ainda,  que  a  importância  do  bem  subtraído,  avaliado  em R$  48,00  (quarenta  e  oito  reais),  não  poder ser tida como insignificante.  Portanto,  a  observância  conjunta  do  princípio  da  adequação  social  da  conduta,  o  que  permite  importante  contextualização  social  das  condutas  dos  acusados,  é  indispensável  à  identificação  das  hipóteses  de  aplicação  do  princípio em tela.”  6. A Corte de Justiça paulista também rejeitou os embargos  de declaração opostos para fins de prequestionamento.  7. No  STJ,  foi  negado  seguimento  ao  recurso  especial  por  decisão monocrática da Min. Laurita Vaz, assim ementada:  “RECURSO ESPECIAL. PENAL. FURTO. REITERAÇÃO     DA  PRÁTICA  DELITIVA.  INAPLICABILIDADE  DO  PRINCÍPIO  DA  INSIGNIFICÂNCIA.  PRECEDENTES.  RECURSO ESPECIAL A QUE SE NEGA SEGUIMENTO.”  8. Contra  esta  decisão  a  defesa  se  insurge  com o  presente  habeas  corpus.  Alega,  em  síntese,  a  aplicabilidade  do  princípio  da  insignificância, devido ao ínfimo valor do bem, sua restituição à vítima e  à irrelevância de circunstâncias subjetivas, conforme julgados desta Corte.  9. Em  decisão  monocrática,  deferi  medida  liminar  para  suspender os efeitos da condenação até o julgamento de mérito.  10. O  Ministério  Público  Federal,  por  meio  da  eminente  Subprocuradora-Geral da República Cláudia Sampaio Marques, ofereceu  parecer com a seguinte ementa:  “PENAL.  HABEAS  CORPUS.  TENTATIVA DE FURTO  QUALIFICADO.  PLEITO  DE  ABSOLVIÇÃO.  PRINCÍPIO  DA  INSIGNIFICÂNCIA.  NÃO  CONHECIMENTO.  MANDAMUS QUE  SE  VOLTA  CONTRA  DECISÃO  MONOCRÁTICA.  INADMISSIBILIDADE  DE  HC  SUBSTITUTIVO  DE  AGRAVO  REGIMENTAL.  MÉRITO.  IMPROCEDÊNCIA.  PRINCÍPIO  DA  INSIGNIFICÂNCIA.  VALOR  DO  BEM.  INAPLICABILIDADE.  OUTROS  ELEMENTOS  A  SEREM  SOPESADOS.  PACIENTE  CONTUMAZ  NA  PRÁTICA  DE  CRIMES  CONTRA  O  PATRIMÔNIO.  REITERAÇÃO CRIMINOSA QUE AFASTA  A  INCIDÊNCIA  DO  PRINCÍPIO  DA  INSIGNIFICÂNCIA.  PARECER PELO NÃO CONHECIMENTO DO MANDAMUS  E, SE CONHECIDO, PELA DENEGAÇÃO DA ORDEM.”  11. É o relatório. '"
      ]
     },
     "execution_count": 111,
     "metadata": {},
     "output_type": "execute_result"
    }
   ],
   "source": [
    "textos[40000]"
   ]
  },
  {
   "cell_type": "code",
   "execution_count": null,
   "id": "537ee882",
   "metadata": {},
   "outputs": [],
   "source": [
    "textos."
   ]
  }
 ],
 "metadata": {
  "kernelspec": {
   "display_name": "Python 3",
   "language": "python",
   "name": "python3"
  },
  "language_info": {
   "codemirror_mode": {
    "name": "ipython",
    "version": 3
   },
   "file_extension": ".py",
   "mimetype": "text/x-python",
   "name": "python",
   "nbconvert_exporter": "python",
   "pygments_lexer": "ipython3",
   "version": "3.8.8"
  }
 },
 "nbformat": 4,
 "nbformat_minor": 5
}
